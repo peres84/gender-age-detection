{
 "cells": [
  {
   "cell_type": "code",
   "execution_count": null,
   "id": "b048ff10",
   "metadata": {},
   "outputs": [],
   "source": [
    "#import keras\n",
    "import json\n",
    "import sys\n",
    "import tensorflow as tf\n",
    "from tensorflow.keras.layers import Input\n",
    "import numpy as np\n",
    "import argparse\n",
    "import cv2\n",
    "#from wide_resnet import WideResNet\n",
    "from tensorflow.keras.utils import get_file\n",
    "import face_recognition"
   ]
  },
  {
   "cell_type": "code",
   "execution_count": null,
   "id": "a6ee6966",
   "metadata": {},
   "outputs": [],
   "source": [
    "age_model = tf.keras.models.load_model('../data/age_model_16_11_2021.h5')\n",
    "age_model.summary()"
   ]
  },
  {
   "cell_type": "code",
   "execution_count": null,
   "id": "93ee3ab2",
   "metadata": {},
   "outputs": [],
   "source": [
    "gender_model = tf.keras.models.load_model('../data/gender_model_16_2021.h5')\n",
    "gender_model.summary()"
   ]
  },
  {
   "cell_type": "code",
   "execution_count": null,
   "id": "a558f54a",
   "metadata": {},
   "outputs": [],
   "source": [
    "# import libraries\n",
    "import cv2\n",
    "import face_recognition\n",
    "\n",
    "# Get a reference to webcam \n",
    "video_capture = cv2.VideoCapture(0)\n",
    "\n",
    "# Initialize variables\n",
    "face_locations = []\n",
    "\n",
    "while True:\n",
    "    # Grab a single frame of video\n",
    "    ret, frame = video_capture.read()\n",
    "\n",
    "    # Convert the image from BGR color (which OpenCV uses) to RGB color (which face_recognition uses)\n",
    "    rgb_frame = cv2.cvtColor(frame, cv2.COLOR_BGR2RGB)\n",
    "\n",
    "    # Find all the faces in the current frame of video\n",
    "    face_locations = face_recognition.face_locations(rgb_frame)\n",
    "\n",
    "    # Display the results\n",
    "    for top, right, bottom, left in face_locations:\n",
    "        # Draw a box around the face\n",
    "        cv2.rectangle(frame, (left, top), (right, bottom), (0, 0, 255), 2)\n",
    "\n",
    "    img= cv2.resize(rgb_frame, (128, 128))\n",
    "    img=np.array([img]).reshape((1, 128,128,3))\n",
    "    #predictions \n",
    "    age_prediction = age_model.predict(img)\n",
    "    gender_prediction = gender_model.predict(img)\n",
    "    #decoding \n",
    "    index = np.argmax(age_prediction)\n",
    "    decoding = {0:'0-2', 1:'4-6', 2:'8-13',3:'15-20',4:'25-32',5:'38-43',6:'48-53',7:'60+'}\n",
    "    \n",
    "    predicted_genders = gender_prediction[0]\n",
    "    \n",
    "    gen = \"F\" if predicted_genders[0] > 0.5 else \"M\"\n",
    "    pred = str(decoding[index])+\" \"+str(gen)\n",
    "    #print(pred)\n",
    "    cv2.putText(frame, pred,(face_locations[0][3],face_locations[0][0]) , cv2.FONT_HERSHEY_SIMPLEX,0.7, (2, 255, 255), 2)\n",
    "\n",
    "    # Display the resulting image\n",
    "    cv2.imshow('Video', frame)\n",
    "    \n",
    "    # Hit 'q' on the keyboard to quit!\n",
    "    if cv2.waitKey(1) & 0xFF == ord('q'):\n",
    "        break\n",
    "\n",
    "# Release handle to the webcam\n",
    "video_capture.release()\n",
    "cv2.destroyAllWindows()"
   ]
  }
 ],
 "metadata": {
  "kernelspec": {
   "display_name": "Python 3 (ipykernel)",
   "language": "python",
   "name": "python3"
  },
  "language_info": {
   "codemirror_mode": {
    "name": "ipython",
    "version": 3
   },
   "file_extension": ".py",
   "mimetype": "text/x-python",
   "name": "python",
   "nbconvert_exporter": "python",
   "pygments_lexer": "ipython3",
   "version": "3.7.11"
  }
 },
 "nbformat": 4,
 "nbformat_minor": 5
}
