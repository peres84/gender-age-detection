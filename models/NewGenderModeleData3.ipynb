{
 "cells": [
  {
   "cell_type": "code",
   "execution_count": 36,
   "id": "dd23b5a6",
   "metadata": {},
   "outputs": [],
   "source": [
    "import numpy as np \n",
    "import pandas as pd \n",
    "import matplotlib.pyplot as plt\n",
    "import seaborn as sns\n",
    "sns.set()\n",
    "from keras.models import Sequential\n",
    "from keras.layers import Conv2D, Dropout, BatchNormalization, Flatten, Dense, MaxPooling2D\n",
    "from tensorflow.keras.utils import to_categorical\n",
    "from keras.callbacks import EarlyStopping, ReduceLROnPlateau\n",
    "from tensorflow.keras.optimizers import Adam\n",
    "from sklearn.metrics import mean_absolute_error, confusion_matrix, classification_report\n",
    "from sklearn.model_selection import train_test_split\n",
    "from sklearn.metrics import mean_absolute_error"
   ]
  },
  {
   "cell_type": "code",
   "execution_count": 19,
   "id": "c167412d",
   "metadata": {},
   "outputs": [],
   "source": [
    "df = pd.read_csv(\"../data/data3/age_gender.csv\")"
   ]
  },
  {
   "cell_type": "code",
   "execution_count": 20,
   "id": "3f19d211",
   "metadata": {},
   "outputs": [
    {
     "data": {
      "text/html": [
       "<div>\n",
       "<style scoped>\n",
       "    .dataframe tbody tr th:only-of-type {\n",
       "        vertical-align: middle;\n",
       "    }\n",
       "\n",
       "    .dataframe tbody tr th {\n",
       "        vertical-align: top;\n",
       "    }\n",
       "\n",
       "    .dataframe thead th {\n",
       "        text-align: right;\n",
       "    }\n",
       "</style>\n",
       "<table border=\"1\" class=\"dataframe\">\n",
       "  <thead>\n",
       "    <tr style=\"text-align: right;\">\n",
       "      <th></th>\n",
       "      <th>age</th>\n",
       "      <th>ethnicity</th>\n",
       "      <th>gender</th>\n",
       "      <th>img_name</th>\n",
       "      <th>pixels</th>\n",
       "    </tr>\n",
       "  </thead>\n",
       "  <tbody>\n",
       "    <tr>\n",
       "      <th>0</th>\n",
       "      <td>1</td>\n",
       "      <td>2</td>\n",
       "      <td>0</td>\n",
       "      <td>20161219203650636.jpg.chip.jpg</td>\n",
       "      <td>129 128 128 126 127 130 133 135 139 142 145 14...</td>\n",
       "    </tr>\n",
       "    <tr>\n",
       "      <th>1</th>\n",
       "      <td>1</td>\n",
       "      <td>2</td>\n",
       "      <td>0</td>\n",
       "      <td>20161219222752047.jpg.chip.jpg</td>\n",
       "      <td>164 74 111 168 169 171 175 182 184 188 193 199...</td>\n",
       "    </tr>\n",
       "    <tr>\n",
       "      <th>2</th>\n",
       "      <td>1</td>\n",
       "      <td>2</td>\n",
       "      <td>0</td>\n",
       "      <td>20161219222832191.jpg.chip.jpg</td>\n",
       "      <td>67 70 71 70 69 67 70 79 90 103 116 132 145 155...</td>\n",
       "    </tr>\n",
       "    <tr>\n",
       "      <th>3</th>\n",
       "      <td>1</td>\n",
       "      <td>2</td>\n",
       "      <td>0</td>\n",
       "      <td>20161220144911423.jpg.chip.jpg</td>\n",
       "      <td>193 197 198 200 199 200 202 203 204 205 208 21...</td>\n",
       "    </tr>\n",
       "    <tr>\n",
       "      <th>4</th>\n",
       "      <td>1</td>\n",
       "      <td>2</td>\n",
       "      <td>0</td>\n",
       "      <td>20161220144914327.jpg.chip.jpg</td>\n",
       "      <td>202 205 209 210 209 209 210 211 212 214 218 21...</td>\n",
       "    </tr>\n",
       "    <tr>\n",
       "      <th>...</th>\n",
       "      <td>...</td>\n",
       "      <td>...</td>\n",
       "      <td>...</td>\n",
       "      <td>...</td>\n",
       "      <td>...</td>\n",
       "    </tr>\n",
       "    <tr>\n",
       "      <th>23700</th>\n",
       "      <td>99</td>\n",
       "      <td>0</td>\n",
       "      <td>1</td>\n",
       "      <td>20170120221920654.jpg.chip.jpg</td>\n",
       "      <td>127 100 94 81 77 77 74 99 102 98 128 145 160 1...</td>\n",
       "    </tr>\n",
       "    <tr>\n",
       "      <th>23701</th>\n",
       "      <td>99</td>\n",
       "      <td>1</td>\n",
       "      <td>1</td>\n",
       "      <td>20170120134639935.jpg.chip.jpg</td>\n",
       "      <td>23 28 32 35 42 47 68 85 98 103 113 117 130 129...</td>\n",
       "    </tr>\n",
       "    <tr>\n",
       "      <th>23702</th>\n",
       "      <td>99</td>\n",
       "      <td>2</td>\n",
       "      <td>1</td>\n",
       "      <td>20170110182418864.jpg.chip.jpg</td>\n",
       "      <td>59 50 37 40 34 19 30 101 156 170 177 184 187 1...</td>\n",
       "    </tr>\n",
       "    <tr>\n",
       "      <th>23703</th>\n",
       "      <td>99</td>\n",
       "      <td>2</td>\n",
       "      <td>1</td>\n",
       "      <td>20170117195405372.jpg.chip.jpg</td>\n",
       "      <td>45 108 120 156 206 197 140 180 191 199 204 207...</td>\n",
       "    </tr>\n",
       "    <tr>\n",
       "      <th>23704</th>\n",
       "      <td>99</td>\n",
       "      <td>0</td>\n",
       "      <td>1</td>\n",
       "      <td>20170110182052119.jpg.chip.jpg</td>\n",
       "      <td>156 161 160 165 170 173 166 177 183 191 187 18...</td>\n",
       "    </tr>\n",
       "  </tbody>\n",
       "</table>\n",
       "<p>23705 rows × 5 columns</p>\n",
       "</div>"
      ],
      "text/plain": [
       "       age  ethnicity  gender                        img_name  \\\n",
       "0        1          2       0  20161219203650636.jpg.chip.jpg   \n",
       "1        1          2       0  20161219222752047.jpg.chip.jpg   \n",
       "2        1          2       0  20161219222832191.jpg.chip.jpg   \n",
       "3        1          2       0  20161220144911423.jpg.chip.jpg   \n",
       "4        1          2       0  20161220144914327.jpg.chip.jpg   \n",
       "...    ...        ...     ...                             ...   \n",
       "23700   99          0       1  20170120221920654.jpg.chip.jpg   \n",
       "23701   99          1       1  20170120134639935.jpg.chip.jpg   \n",
       "23702   99          2       1  20170110182418864.jpg.chip.jpg   \n",
       "23703   99          2       1  20170117195405372.jpg.chip.jpg   \n",
       "23704   99          0       1  20170110182052119.jpg.chip.jpg   \n",
       "\n",
       "                                                  pixels  \n",
       "0      129 128 128 126 127 130 133 135 139 142 145 14...  \n",
       "1      164 74 111 168 169 171 175 182 184 188 193 199...  \n",
       "2      67 70 71 70 69 67 70 79 90 103 116 132 145 155...  \n",
       "3      193 197 198 200 199 200 202 203 204 205 208 21...  \n",
       "4      202 205 209 210 209 209 210 211 212 214 218 21...  \n",
       "...                                                  ...  \n",
       "23700  127 100 94 81 77 77 74 99 102 98 128 145 160 1...  \n",
       "23701  23 28 32 35 42 47 68 85 98 103 113 117 130 129...  \n",
       "23702  59 50 37 40 34 19 30 101 156 170 177 184 187 1...  \n",
       "23703  45 108 120 156 206 197 140 180 191 199 204 207...  \n",
       "23704  156 161 160 165 170 173 166 177 183 191 187 18...  \n",
       "\n",
       "[23705 rows x 5 columns]"
      ]
     },
     "execution_count": 20,
     "metadata": {},
     "output_type": "execute_result"
    }
   ],
   "source": [
    "df"
   ]
  },
  {
   "cell_type": "code",
   "execution_count": 47,
   "id": "4f4ef7ca",
   "metadata": {},
   "outputs": [
    {
     "data": {
      "text/plain": [
       "array([  1,  10, 100, 101, 103, 105,  11, 110, 111, 115, 116,  12,  13,\n",
       "        14,  15,  16,  17,  18,  19,   2,  20,  21,  22,  23,  24,  25,\n",
       "        26,  27,  28,  29,   3,  30,  31,  32,  33,  34,  35,  36,  37,\n",
       "        38,  39,   4,  40,  41,  42,  43,  44,  45,  46,  47,  48,  49,\n",
       "         5,  50,  51,  52,  53,  54,  55,  56,  57,  58,  59,   6,  60,\n",
       "        61,  62,  63,  64,  65,  66,  67,  68,  69,   7,  70,  71,  72,\n",
       "        73,  74,  75,  76,  77,  78,  79,   8,  80,  81,  82,  83,  84,\n",
       "        85,  86,  87,  88,  89,   9,  90,  91,  92,  93,  95,  96,  99])"
      ]
     },
     "execution_count": 47,
     "metadata": {},
     "output_type": "execute_result"
    }
   ],
   "source": [
    "df.age.unique()"
   ]
  },
  {
   "cell_type": "code",
   "execution_count": 21,
   "id": "80395d39",
   "metadata": {},
   "outputs": [
    {
     "data": {
      "text/plain": [
       "'129 128 128 126 127 130 133 135 139 142 145 149 147 145 146 147 148 149 149 150 153 153 153 152 153 153 153 153 153 151 149 147 146 146 144 143 140 134 129 129 126 122 121 119 118 118 99 53 130 129 128 126 127 130 135 141 143 143 144 145 143 142 144 145 146 149 149 148 151 151 151 151 152 153 153 153 153 149 148 147 146 146 142 141 138 133 130 130 128 123 124 122 120 117 98 52 131 129 130 129 129 134 138 144 145 143 143 139 140 138 139 140 142 145 147 149 151 149 149 149 151 152 151 150 150 148 147 145 144 142 140 137 136 135 134 131 128 126 126 123 122 114 97 50 135 134 133 132 131 136 142 145 147 144 141 143 138 131 133 134 137 139 143 147 148 149 149 149 151 151 149 147 147 146 141 139 135 137 137 137 137 138 137 134 132 129 130 124 124 115 95 52 138 139 139 135 134 138 140 140 140 140 140 140 139 134 131 127 131 131 133 138 143 148 149 149 150 151 148 144 141 138 139 133 133 137 139 139 141 140 140 136 132 131 132 125 125 115 91 50 141 145 144 138 135 139 139 133 127 123 124 122 125 126 129 127 129 126 126 129 137 145 149 147 149 149 147 141 135 133 134 132 132 133 134 134 137 139 141 137 135 134 133 127 125 113 82 47 147 147 145 141 138 136 132 124 117 117 116 114 107 104 108 112 115 117 120 126 133 142 146 145 147 148 147 141 135 129 122 119 115 116 120 122 124 126 138 139 138 136 135 128 124 115 72 48 148 150 149 147 141 134 125 121 122 126 122 119 114 114 117 123 124 124 127 131 135 140 143 145 147 149 149 144 139 133 129 128 115 105 110 115 121 120 130 133 138 138 138 133 124 115 58 46 148 152 152 149 143 136 124 122 128 132 132 134 135 137 136 133 134 136 135 134 139 143 144 145 149 151 150 147 141 135 136 133 129 128 130 131 129 126 120 121 132 140 142 136 129 100 63 54 148 155 153 150 146 139 135 135 139 143 146 148 145 140 137 138 134 134 139 138 143 145 147 148 153 155 151 148 143 137 137 135 141 149 146 144 140 136 132 120 129 135 139 138 134 104 125 128 150 154 154 150 145 142 142 142 144 141 143 135 129 127 126 133 134 134 137 139 142 146 149 154 156 155 152 148 140 143 134 130 137 139 138 151 144 146 144 138 136 140 142 142 133 117 155 149 151 154 154 149 144 144 141 141 138 130 117 97 81 78 86 102 118 131 134 135 143 149 152 154 155 155 150 145 138 136 127 122 97 84 101 117 134 149 146 144 143 143 145 143 130 141 135 90 151 154 153 150 147 146 142 141 129 113 86 60 58 49 33 48 83 109 130 133 145 151 154 155 157 155 150 143 132 124 70 39 39 83 71 70 109 125 142 147 142 145 146 143 130 120 69 63 151 153 155 153 151 150 142 131 109 86 53 102 80 75 26 107 51 93 124 136 146 153 155 155 156 158 151 143 137 82 25 76 58 83 151 80 73 113 134 149 148 150 147 142 122 104 67 82 151 153 156 157 155 152 145 136 124 113 123 134 78 28 23 43 69 117 128 148 147 153 159 159 159 159 153 148 146 60 22 26 41 88 159 123 103 105 128 150 148 150 153 143 127 109 69 92 150 154 156 159 159 161 163 162 161 157 139 135 113 51 35 56 90 141 152 153 154 162 170 172 170 168 161 155 163 120 70 30 45 111 143 129 132 135 144 150 156 154 156 147 120 101 94 86 146 153 156 159 163 169 171 172 171 168 165 157 152 136 127 133 149 145 156 162 168 173 177 176 175 172 168 164 161 153 144 141 131 138 143 150 157 152 153 155 156 154 150 147 116 115 95 52 143 151 156 160 165 166 169 172 171 168 162 157 152 144 136 137 143 154 166 171 176 178 178 175 173 172 170 170 166 162 155 141 136 142 156 162 159 159 157 156 157 154 151 140 119 121 55 31 141 148 153 157 161 163 166 169 169 167 162 157 153 149 147 151 158 166 172 175 178 176 174 173 172 170 169 170 173 170 166 154 146 149 154 160 163 162 160 157 153 150 151 134 138 85 35 33 138 146 150 155 159 161 164 167 169 169 167 163 159 156 157 161 168 172 173 176 178 176 170 171 169 168 167 168 169 170 170 165 160 156 156 160 163 164 160 156 152 146 145 132 113 35 32 33 136 144 149 153 158 160 163 165 168 168 170 167 164 165 166 169 172 169 168 169 171 170 167 169 168 166 162 162 164 166 169 172 169 165 165 166 167 165 160 156 152 144 141 129 58 30 29 30 136 142 147 151 154 159 160 164 166 168 169 170 169 170 170 172 170 168 162 163 163 166 167 169 168 166 160 156 160 165 169 172 173 169 169 169 167 164 160 158 153 149 129 136 39 29 29 29 131 140 144 149 153 157 159 164 167 172 172 173 172 172 171 169 168 161 155 153 156 166 172 172 173 167 159 153 156 163 168 169 170 170 172 170 168 164 160 158 152 141 131 123 36 28 27 27 129 139 145 150 151 155 160 165 169 172 174 174 174 174 171 168 164 158 147 148 162 168 168 170 175 167 154 151 150 157 164 167 168 171 174 172 169 164 160 157 155 137 126 62 25 28 27 27 122 136 143 148 146 150 157 162 166 168 170 171 171 172 170 167 160 151 144 159 168 162 162 159 158 156 159 160 151 152 160 162 166 168 170 168 166 163 160 155 150 136 67 23 28 23 25 25 115 134 141 148 146 150 154 159 165 167 168 169 169 169 168 165 157 147 144 153 137 132 139 138 149 146 134 140 154 152 152 162 164 167 167 167 165 161 159 154 147 134 40 28 23 26 24 24 102 132 140 145 145 148 151 156 161 163 165 166 166 166 165 164 155 142 134 133 88 81 99 111 113 94 67 88 129 151 153 157 160 164 165 164 162 160 158 153 145 124 26 25 25 24 24 24 91 122 140 145 143 145 148 151 156 159 161 162 162 163 166 164 157 149 133 133 128 128 130 125 130 137 133 125 141 151 152 151 159 162 164 164 161 158 155 150 142 108 24 24 24 22 24 24 82 104 138 141 143 145 145 148 152 154 158 159 159 160 161 159 155 151 150 153 153 153 159 146 151 157 147 149 152 153 152 152 155 161 163 163 158 155 154 149 135 92 28 21 22 20 22 22 73 86 129 138 141 142 141 144 146 150 153 156 156 160 159 156 155 151 147 151 152 151 164 148 153 155 148 148 149 149 150 150 154 159 159 159 156 151 150 144 130 125 88 32 23 24 18 23 73 69 102 132 135 141 136 140 143 144 149 151 152 155 153 150 149 146 139 140 144 154 156 150 156 155 143 142 145 147 150 150 154 155 153 153 152 147 144 138 134 128 128 107 45 23 28 20 71 59 75 124 136 130 133 135 137 140 143 145 147 149 147 145 142 135 131 134 134 145 142 148 152 145 141 138 134 137 141 146 149 151 147 145 142 141 138 135 137 137 133 136 115 49 19 28 73 66 62 94 129 133 130 130 132 135 137 139 140 138 138 135 127 121 113 125 124 115 101 112 119 109 122 130 127 123 130 141 143 144 140 137 135 133 136 140 138 146 139 138 135 116 44 21 81 63 59 61 97 131 131 128 129 130 132 135 135 134 132 119 99 71 64 60 50 42 55 73 73 52 62 81 87 95 118 130 136 138 135 133 131 128 135 143 148 148 148 148 142 141 98 32 89 69 63 59 73 105 124 130 127 125 129 132 132 130 124 112 98 90 79 96 100 88 84 92 93 91 96 99 94 89 104 117 128 133 133 130 132 129 140 147 153 149 151 151 148 147 131 73 102 82 67 62 65 81 105 119 124 123 126 127 125 121 121 123 121 109 109 111 114 122 126 121 133 124 116 120 125 114 104 114 125 132 132 125 127 137 151 152 146 150 152 152 151 144 137 114 114 95 75 65 64 74 82 91 111 121 116 121 121 121 122 124 124 121 114 111 120 126 126 129 127 122 123 129 134 128 118 115 121 124 125 127 134 146 151 138 140 151 153 153 149 152 142 135 123 106 88 69 64 71 81 76 71 93 114 111 114 119 122 125 128 129 126 113 111 110 108 110 117 123 126 136 136 130 126 123 121 121 121 132 144 154 143 123 140 153 155 155 156 152 150 137 129 112 102 84 69 71 78 85 69 63 88 102 102 106 115 119 126 131 133 131 125 119 117 118 124 133 136 136 133 128 123 120 117 123 127 139 149 156 120 134 143 152 156 158 158 150 153 145 136 121 112 96 82 77 81 86 85 65 63 83 90 97 101 111 117 127 137 143 150 150 150 152 149 148 141 135 127 117 117 110 111 121 132 142 151 146 116 140 145 154 157 159 158 155 155 150 139 128 121 110 95 89 91 91 89 78 67 63 70 83 84 99 108 121 131 139 150 146 146 146 146 143 135 125 114 116 121 112 116 132 137 146 151 134 121 142 149 156 158 160 156 156 151 145 132 139 130 120 106 101 98 98 98 90 78 71 67 68 70 75 84 101 121 131 136 139 134 134 133 129 118 112 111 122 125 118 125 139 143 147 146 120 126 141 149 156 158 160 160 157 148 139 129 141 138 129 116 110 108 107 105 104 91 80 75 73 81 82 76 71 90 118 129 116 110 113 109 105 106 112 121 129 126 126 129 142 148 150 145 113 129 142 149 156 157 158 158 157 151 143 129 138 146 136 125 119 118 115 114 112 102 91 82 79 82 91 99 95 96 99 103 98 97 103 108 110 118 124 130 131 131 131 137 144 147 147 136 111 131 141 146 153 156 154 154 153 150 145 129 140 148 141 132 127 127 125 123 117 110 102 93 85 87 93 100 106 107 107 110 108 114 113 113 117 120 125 133 136 135 137 142 144 145 144 131 111 133 139 144 149 152 153 153 153 152 146 121 138 147 146 139 135 132 133 131 124 116 108 102 97 97 103 107 111 112 113 116 116 117 117 122 125 128 131 136 138 137 137 140 142 143 140 123 114 128 135 138 143 145 149 151 151 150 148 117 137 146 146 143 138 135 135 134 128 122 116 112 108 107 109 113 117 118 117 118 119 121 124 127 129 131 132 135 137 137 137 138 141 142 133 108 107 124 134 136 140 142 146 148 149 148 148 115 135 142 142 141 140 137 135 135 130 125 122 118 115 114 116 121 123 124 123 124 122 124 125 128 129 131 132 135 135 135 136 138 135 133 124 90 104 123 129 134 138 142 144 144 146 146 146'"
      ]
     },
     "execution_count": 21,
     "metadata": {},
     "output_type": "execute_result"
    }
   ],
   "source": [
    "df.pixels[0]"
   ]
  },
  {
   "cell_type": "code",
   "execution_count": 23,
   "id": "bcc3de6d",
   "metadata": {},
   "outputs": [
    {
     "data": {
      "text/plain": [
       "8917"
      ]
     },
     "execution_count": 23,
     "metadata": {},
     "output_type": "execute_result"
    }
   ],
   "source": [
    "len(df.pixels[0])"
   ]
  },
  {
   "cell_type": "code",
   "execution_count": 24,
   "id": "7bba2e88",
   "metadata": {},
   "outputs": [
    {
     "name": "stdout",
     "output_type": "stream",
     "text": [
      "4458.5\n"
     ]
    }
   ],
   "source": [
    "print(len(df.pixels[0])**1/2)"
   ]
  },
  {
   "cell_type": "markdown",
   "id": "43f4e883",
   "metadata": {},
   "source": [
    "# convert to array"
   ]
  },
  {
   "cell_type": "code",
   "execution_count": 27,
   "id": "6d471d86",
   "metadata": {},
   "outputs": [],
   "source": [
    "df['pixels'] = df['pixels'].map(lambda x: np.array(x.split(' '), dtype=np.float32).reshape(48, 48))"
   ]
  },
  {
   "cell_type": "code",
   "execution_count": 9,
   "id": "c5f410de",
   "metadata": {},
   "outputs": [
    {
     "data": {
      "image/png": "[encoded data removed]",
      "text/plain": [
       "<Figure size 1440x720 with 5 Axes>"
      ]
     },
     "metadata": {
      "needs_background": "light"
     },
     "output_type": "display_data"
    }
   ],
   "source": [
    "# Plot some pictures\n",
    "fig, axes = plt.subplots(1, 5, figsize=(20, 10))\n",
    "\n",
    "for i in range(5):\n",
    "    random_face = np.random.choice(len(df))\n",
    "    \n",
    "    age = df['age'][random_face]\n",
    "    ethnicity = df['ethnicity'][random_face]\n",
    "    gender = df['gender'][random_face]\n",
    "    \n",
    "    axes[i].set_title('Age: {0}, Ethnicity: {1}, Sex: {2}'.format(age, ethnicity, gender))\n",
    "    axes[i].imshow(df['pixels'][random_face])\n",
    "    axes[i].axis('off')"
   ]
  },
  {
   "cell_type": "code",
   "execution_count": 28,
   "id": "d3e4339a",
   "metadata": {},
   "outputs": [],
   "source": [
    "X = np.array(df['pixels'].to_list())\n",
    "X_reshaped = X.reshape(X.shape[0], 48, 48, 1)\n"
   ]
  },
  {
   "cell_type": "code",
   "execution_count": 29,
   "id": "317d1ed0",
   "metadata": {},
   "outputs": [],
   "source": [
    "\n",
    "\n",
    "if np.max(X_reshaped) > 1: X_reshaped = X_reshaped / 255\n",
    "\n"
   ]
  },
  {
   "cell_type": "code",
   "execution_count": 30,
   "id": "c8752c20",
   "metadata": {},
   "outputs": [],
   "source": [
    "input_shape = X_reshaped.shape[1:] "
   ]
  },
  {
   "cell_type": "code",
   "execution_count": 31,
   "id": "770d3b90",
   "metadata": {},
   "outputs": [],
   "source": [
    "y = df['age'].values"
   ]
  },
  {
   "cell_type": "code",
   "execution_count": 34,
   "id": "fb32b158",
   "metadata": {},
   "outputs": [],
   "source": [
    "# Train test split\n",
    "X_train, X_test, y_train, y_test = train_test_split(X_reshaped, y, test_size=0.2, random_state=42)"
   ]
  },
  {
   "cell_type": "code",
   "execution_count": 37,
   "id": "7bfd0cf7",
   "metadata": {},
   "outputs": [
    {
     "name": "stdout",
     "output_type": "stream",
     "text": [
      "Model: \"sequential_1\"\n",
      "_________________________________________________________________\n",
      " Layer (type)                Output Shape              Param #   \n",
      "=================================================================\n",
      " conv2d_1 (Conv2D)           (None, 46, 46, 64)        640       \n",
      "                                                                 \n",
      " max_pooling2d_1 (MaxPooling  (None, 23, 23, 64)       0         \n",
      " 2D)                                                             \n",
      "                                                                 \n",
      " batch_normalization (BatchN  (None, 23, 23, 64)       256       \n",
      " ormalization)                                                   \n",
      "                                                                 \n",
      " conv2d_2 (Conv2D)           (None, 23, 23, 128)       73856     \n",
      "                                                                 \n",
      " conv2d_3 (Conv2D)           (None, 21, 21, 128)       147584    \n",
      "                                                                 \n",
      " max_pooling2d_2 (MaxPooling  (None, 10, 10, 128)      0         \n",
      " 2D)                                                             \n",
      "                                                                 \n",
      " dropout (Dropout)           (None, 10, 10, 128)       0         \n",
      "                                                                 \n",
      " batch_normalization_1 (Batc  (None, 10, 10, 128)      512       \n",
      " hNormalization)                                                 \n",
      "                                                                 \n",
      " conv2d_4 (Conv2D)           (None, 10, 10, 256)       295168    \n",
      "                                                                 \n",
      " conv2d_5 (Conv2D)           (None, 8, 8, 256)         590080    \n",
      "                                                                 \n",
      " max_pooling2d_3 (MaxPooling  (None, 4, 4, 256)        0         \n",
      " 2D)                                                             \n",
      "                                                                 \n",
      " dropout_1 (Dropout)         (None, 4, 4, 256)         0         \n",
      "                                                                 \n",
      " batch_normalization_2 (Batc  (None, 4, 4, 256)        1024      \n",
      " hNormalization)                                                 \n",
      "                                                                 \n",
      " conv2d_6 (Conv2D)           (None, 4, 4, 512)         1180160   \n",
      "                                                                 \n",
      " max_pooling2d_4 (MaxPooling  (None, 2, 2, 512)        0         \n",
      " 2D)                                                             \n",
      "                                                                 \n",
      " dropout_2 (Dropout)         (None, 2, 2, 512)         0         \n",
      "                                                                 \n",
      " batch_normalization_3 (Batc  (None, 2, 2, 512)        2048      \n",
      " hNormalization)                                                 \n",
      "                                                                 \n",
      " flatten (Flatten)           (None, 2048)              0         \n",
      "                                                                 \n",
      " dense (Dense)               (None, 128)               262272    \n",
      "                                                                 \n",
      " dropout_3 (Dropout)         (None, 128)               0         \n",
      "                                                                 \n",
      " dense_1 (Dense)             (None, 1)                 129       \n",
      "                                                                 \n",
      "=================================================================\n",
      "Total params: 2,553,729\n",
      "Trainable params: 2,551,809\n",
      "Non-trainable params: 1,920\n",
      "_________________________________________________________________\n"
     ]
    }
   ],
   "source": [
    "age_model = Sequential()\n",
    "\n",
    "age_model.add(Conv2D(64, kernel_size=(3,3), input_shape=input_shape, activation='relu'))\n",
    "age_model.add(MaxPooling2D(pool_size=(2,2)))\n",
    "age_model.add(BatchNormalization())\n",
    "\n",
    "age_model.add(Conv2D(128, kernel_size=(3,3), activation='relu', padding='same'))\n",
    "age_model.add(Conv2D(128, kernel_size=(3,3), activation='relu'))\n",
    "age_model.add(MaxPooling2D(pool_size=(2,2)))\n",
    "age_model.add(Dropout(0.3))\n",
    "age_model.add(BatchNormalization())\n",
    "\n",
    "age_model.add(Conv2D(256, kernel_size=(3,3), activation='relu', padding='same'))\n",
    "age_model.add(Conv2D(256, kernel_size=(3,3), activation='relu'))\n",
    "age_model.add(MaxPooling2D(pool_size=(2,2)))\n",
    "age_model.add(Dropout(0.3))\n",
    "age_model.add(BatchNormalization())\n",
    "\n",
    "age_model.add(Conv2D(512, kernel_size=(3,3), activation='relu', padding='same'))\n",
    "age_model.add(MaxPooling2D(pool_size=(2,2)))\n",
    "age_model.add(Dropout(0.5))\n",
    "age_model.add(BatchNormalization())\n",
    "\n",
    "age_model.add(Flatten())\n",
    "age_model.add(Dense(128, activation='relu'))\n",
    "age_model.add(Dropout(0.4))\n",
    "age_model.add(Dense(1))\n",
    "\n",
    "age_model.compile(optimizer='adam', loss='mse')\n",
    "\n",
    "age_model.summary()"
   ]
  },
  {
   "cell_type": "code",
   "execution_count": 38,
   "id": "d970a912",
   "metadata": {},
   "outputs": [],
   "source": [
    "n_epochs = 50\n",
    "batch_size = 64"
   ]
  },
  {
   "cell_type": "code",
   "execution_count": 39,
   "id": "b4352dd5",
   "metadata": {},
   "outputs": [],
   "source": [
    "# Callbacks for age model\n",
    "callbacks = [EarlyStopping(patience=4, monitor='val_loss', mode='min'), \n",
    "             ReduceLROnPlateau(patience=2, verbose=1)]             \n"
   ]
  },
  {
   "cell_type": "code",
   "execution_count": 40,
   "id": "190e8b3b",
   "metadata": {},
   "outputs": [
    {
     "name": "stdout",
     "output_type": "stream",
     "text": [
      "Epoch 1/50\n"
     ]
    },
    {
     "name": "stderr",
     "output_type": "stream",
     "text": [
      "2021-11-17 13:28:01.688852: I tensorflow/stream_executor/cuda/cuda_dnn.cc:366] Loaded cuDNN version 8101\n",
      "2021-11-17 13:28:02.669971: I tensorflow/core/platform/default/subprocess.cc:304] Start cannot spawn child process: No such file or directory\n"
     ]
    },
    {
     "name": "stdout",
     "output_type": "stream",
     "text": [
      "297/297 [==============================] - 11s 23ms/step - loss: 236.7532 - val_loss: 3079.5588 - lr: 0.0010\n",
      "Epoch 2/50\n",
      "297/297 [==============================] - 6s 21ms/step - loss: 139.1026 - val_loss: 1316.1083 - lr: 0.0010\n",
      "Epoch 3/50\n",
      "297/297 [==============================] - 6s 21ms/step - loss: 122.7323 - val_loss: 98.7103 - lr: 0.0010\n",
      "Epoch 4/50\n",
      "297/297 [==============================] - 6s 21ms/step - loss: 108.8815 - val_loss: 117.3172 - lr: 0.0010\n",
      "Epoch 5/50\n",
      "297/297 [==============================] - 6s 21ms/step - loss: 101.8529 - val_loss: 93.3490 - lr: 0.0010\n",
      "Epoch 6/50\n",
      "297/297 [==============================] - 6s 21ms/step - loss: 96.6165 - val_loss: 149.8269 - lr: 0.0010\n",
      "Epoch 7/50\n",
      "295/297 [============================>.] - ETA: 0s - loss: 89.7595\n",
      "Epoch 00007: ReduceLROnPlateau reducing learning rate to 0.00010000000474974513.\n",
      "297/297 [==============================] - 6s 21ms/step - loss: 89.9346 - val_loss: 112.9478 - lr: 0.0010\n",
      "Epoch 8/50\n",
      "297/297 [==============================] - 6s 21ms/step - loss: 75.9062 - val_loss: 68.3252 - lr: 1.0000e-04\n",
      "Epoch 9/50\n",
      "297/297 [==============================] - 6s 22ms/step - loss: 71.7870 - val_loss: 65.4908 - lr: 1.0000e-04\n",
      "Epoch 10/50\n",
      "297/297 [==============================] - 6s 22ms/step - loss: 69.0222 - val_loss: 65.5781 - lr: 1.0000e-04\n",
      "Epoch 11/50\n",
      "297/297 [==============================] - 6s 22ms/step - loss: 68.8211 - val_loss: 65.3789 - lr: 1.0000e-04\n",
      "Epoch 12/50\n",
      "297/297 [==============================] - 6s 22ms/step - loss: 65.1962 - val_loss: 81.3846 - lr: 1.0000e-04\n",
      "Epoch 13/50\n",
      "295/297 [============================>.] - ETA: 0s - loss: 64.6226\n",
      "Epoch 00013: ReduceLROnPlateau reducing learning rate to 1.0000000474974514e-05.\n",
      "297/297 [==============================] - 6s 22ms/step - loss: 64.6480 - val_loss: 71.2699 - lr: 1.0000e-04\n",
      "Epoch 14/50\n",
      "297/297 [==============================] - 6s 22ms/step - loss: 61.4312 - val_loss: 63.6457 - lr: 1.0000e-05\n",
      "Epoch 15/50\n",
      "297/297 [==============================] - 6s 22ms/step - loss: 59.5833 - val_loss: 63.0543 - lr: 1.0000e-05\n",
      "Epoch 16/50\n",
      "297/297 [==============================] - 6s 21ms/step - loss: 60.4486 - val_loss: 62.9062 - lr: 1.0000e-05\n",
      "Epoch 17/50\n",
      "297/297 [==============================] - 6s 21ms/step - loss: 59.7744 - val_loss: 63.8112 - lr: 1.0000e-05\n",
      "Epoch 18/50\n",
      "295/297 [============================>.] - ETA: 0s - loss: 58.9245\n",
      "Epoch 00018: ReduceLROnPlateau reducing learning rate to 1.0000000656873453e-06.\n",
      "297/297 [==============================] - 6s 21ms/step - loss: 58.8594 - val_loss: 62.9151 - lr: 1.0000e-05\n",
      "Epoch 19/50\n",
      "297/297 [==============================] - 6s 21ms/step - loss: 60.1542 - val_loss: 62.8093 - lr: 1.0000e-06\n",
      "Epoch 20/50\n",
      "297/297 [==============================] - 7s 22ms/step - loss: 59.1532 - val_loss: 62.8087 - lr: 1.0000e-06\n",
      "Epoch 21/50\n",
      "297/297 [==============================] - 6s 22ms/step - loss: 59.8519 - val_loss: 62.7750 - lr: 1.0000e-06\n",
      "Epoch 22/50\n",
      "297/297 [==============================] - 6s 22ms/step - loss: 59.8071 - val_loss: 62.7920 - lr: 1.0000e-06\n",
      "Epoch 23/50\n",
      "295/297 [============================>.] - ETA: 0s - loss: 59.3084\n",
      "Epoch 00023: ReduceLROnPlateau reducing learning rate to 1.0000001111620805e-07.\n",
      "297/297 [==============================] - 6s 22ms/step - loss: 59.3520 - val_loss: 62.8202 - lr: 1.0000e-06\n",
      "Epoch 24/50\n",
      "297/297 [==============================] - 6s 22ms/step - loss: 59.1701 - val_loss: 62.7988 - lr: 1.0000e-07\n",
      "Epoch 25/50\n",
      "295/297 [============================>.] - ETA: 0s - loss: 60.8511\n",
      "Epoch 00025: ReduceLROnPlateau reducing learning rate to 1.000000082740371e-08.\n",
      "297/297 [==============================] - 6s 22ms/step - loss: 60.9454 - val_loss: 62.7986 - lr: 1.0000e-07\n"
     ]
    }
   ],
   "source": [
    "history = age_model.fit(X_train, y_train, \n",
    "                        epochs=n_epochs,\n",
    "                        batch_size=batch_size,\n",
    "                        callbacks=callbacks,\n",
    "                        validation_data=(X_test, y_test))"
   ]
  },
  {
   "cell_type": "code",
   "execution_count": 41,
   "id": "b7a3b187",
   "metadata": {},
   "outputs": [],
   "source": [
    "age_model.save('../data/data3/age_model3_17_11_2021.h5')"
   ]
  },
  {
   "cell_type": "code",
   "execution_count": 49,
   "id": "ad3c38f4",
   "metadata": {},
   "outputs": [],
   "source": [
    "predict = age_model.predict(X_test)"
   ]
  },
  {
   "cell_type": "code",
   "execution_count": 55,
   "id": "2749b9ef",
   "metadata": {},
   "outputs": [
    {
     "data": {
      "text/plain": [
       "1"
      ]
     },
     "execution_count": 55,
     "metadata": {},
     "output_type": "execute_result"
    }
   ],
   "source": [
    "y_test[0]"
   ]
  },
  {
   "cell_type": "code",
   "execution_count": 51,
   "id": "d407ae38",
   "metadata": {},
   "outputs": [
    {
     "data": {
      "text/plain": [
       "array([29.75024], dtype=float32)"
      ]
     },
     "execution_count": 51,
     "metadata": {},
     "output_type": "execute_result"
    }
   ],
   "source": [
    "predict[0]"
   ]
  },
  {
   "cell_type": "markdown",
   "id": "9270edb2",
   "metadata": {},
   "source": [
    "# gender"
   ]
  },
  {
   "cell_type": "code",
   "execution_count": 42,
   "id": "b9e222b2",
   "metadata": {},
   "outputs": [],
   "source": [
    "y = df['gender'].values\n",
    "X_train, X_test, y_train, y_test = train_test_split(X_reshaped, y, test_size=0.2, random_state=42)"
   ]
  },
  {
   "cell_type": "code",
   "execution_count": 43,
   "id": "9d76657a",
   "metadata": {},
   "outputs": [
    {
     "name": "stdout",
     "output_type": "stream",
     "text": [
      "Model: \"sequential_2\"\n",
      "_________________________________________________________________\n",
      " Layer (type)                Output Shape              Param #   \n",
      "=================================================================\n",
      " conv2d_7 (Conv2D)           (None, 46, 46, 64)        640       \n",
      "                                                                 \n",
      " max_pooling2d_5 (MaxPooling  (None, 23, 23, 64)       0         \n",
      " 2D)                                                             \n",
      "                                                                 \n",
      " batch_normalization_4 (Batc  (None, 23, 23, 64)       256       \n",
      " hNormalization)                                                 \n",
      "                                                                 \n",
      " conv2d_8 (Conv2D)           (None, 21, 21, 128)       73856     \n",
      "                                                                 \n",
      " max_pooling2d_6 (MaxPooling  (None, 10, 10, 128)      0         \n",
      " 2D)                                                             \n",
      "                                                                 \n",
      " dropout_4 (Dropout)         (None, 10, 10, 128)       0         \n",
      "                                                                 \n",
      " batch_normalization_5 (Batc  (None, 10, 10, 128)      512       \n",
      " hNormalization)                                                 \n",
      "                                                                 \n",
      " conv2d_9 (Conv2D)           (None, 8, 8, 256)         295168    \n",
      "                                                                 \n",
      " conv2d_10 (Conv2D)          (None, 6, 6, 256)         590080    \n",
      "                                                                 \n",
      " max_pooling2d_7 (MaxPooling  (None, 3, 3, 256)        0         \n",
      " 2D)                                                             \n",
      "                                                                 \n",
      " dropout_5 (Dropout)         (None, 3, 3, 256)         0         \n",
      "                                                                 \n",
      " batch_normalization_6 (Batc  (None, 3, 3, 256)        1024      \n",
      " hNormalization)                                                 \n",
      "                                                                 \n",
      " flatten_1 (Flatten)         (None, 2304)              0         \n",
      "                                                                 \n",
      " dense_2 (Dense)             (None, 64)                147520    \n",
      "                                                                 \n",
      " dropout_6 (Dropout)         (None, 64)                0         \n",
      "                                                                 \n",
      " dense_3 (Dense)             (None, 1)                 65        \n",
      "                                                                 \n",
      "=================================================================\n",
      "Total params: 1,109,121\n",
      "Trainable params: 1,108,225\n",
      "Non-trainable params: 896\n",
      "_________________________________________________________________\n"
     ]
    }
   ],
   "source": [
    "gender_model = Sequential()\n",
    "\n",
    "gender_model.add(Conv2D(64, kernel_size=(3,3), input_shape=input_shape, activation='relu'))\n",
    "gender_model.add(MaxPooling2D(pool_size=(2,2)))\n",
    "gender_model.add(BatchNormalization())\n",
    "\n",
    "gender_model.add(Conv2D(128, kernel_size=(3,3), activation='relu'))\n",
    "#gender_model.add(Conv2D(128, kernel_size=(3,3), activation='relu'))\n",
    "gender_model.add(MaxPooling2D(pool_size=(2,2)))\n",
    "gender_model.add(Dropout(0.4))\n",
    "gender_model.add(BatchNormalization())\n",
    "\n",
    "gender_model.add(Conv2D(256, kernel_size=(3,3), activation='relu'))\n",
    "gender_model.add(Conv2D(256, kernel_size=(3,3), activation='relu'))\n",
    "gender_model.add(MaxPooling2D(pool_size=(2,2)))\n",
    "gender_model.add(Dropout(0.5))\n",
    "gender_model.add(BatchNormalization())\n",
    "\n",
    "gender_model.add(Flatten())\n",
    "\n",
    "gender_model.add(Dense(64, activation='relu'))\n",
    "gender_model.add(Dropout(0.4))\n",
    "\n",
    "gender_model.add(Dense(1, activation='sigmoid')) #For binary classification activation function is sigmoid \n",
    "\n",
    "gender_model.compile(optimizer='adam', loss='binary_crossentropy', metrics=['accuracy']) #...and loss function is binary_crossentropy\n",
    "\n",
    "gender_model.summary()\n"
   ]
  },
  {
   "cell_type": "code",
   "execution_count": 44,
   "id": "0c14e673",
   "metadata": {},
   "outputs": [],
   "source": [
    "# Callbacks for gender model\n",
    "callbacks = [EarlyStopping(patience=4, monitor='val_accuracy', mode='max'), \n",
    "              ReduceLROnPlateau(patience=2, verbose=1)]"
   ]
  },
  {
   "cell_type": "code",
   "execution_count": 45,
   "id": "8d647c95",
   "metadata": {},
   "outputs": [
    {
     "name": "stdout",
     "output_type": "stream",
     "text": [
      "Epoch 1/50\n",
      "297/297 [==============================] - 5s 14ms/step - loss: 0.5175 - accuracy: 0.7512 - val_loss: 1.1695 - val_accuracy: 0.5206 - lr: 0.0010\n",
      "Epoch 2/50\n",
      "297/297 [==============================] - 4s 13ms/step - loss: 0.3679 - accuracy: 0.8334 - val_loss: 0.3624 - val_accuracy: 0.8490 - lr: 0.0010\n",
      "Epoch 3/50\n",
      "297/297 [==============================] - 4s 13ms/step - loss: 0.3184 - accuracy: 0.8555 - val_loss: 0.3456 - val_accuracy: 0.8583 - lr: 0.0010\n",
      "Epoch 4/50\n",
      "297/297 [==============================] - 4s 13ms/step - loss: 0.2992 - accuracy: 0.8686 - val_loss: 0.2949 - val_accuracy: 0.8760 - lr: 0.0010\n",
      "Epoch 5/50\n",
      "297/297 [==============================] - 4s 14ms/step - loss: 0.2812 - accuracy: 0.8751 - val_loss: 0.2844 - val_accuracy: 0.8743 - lr: 0.0010\n",
      "Epoch 6/50\n",
      "297/297 [==============================] - 4s 14ms/step - loss: 0.2674 - accuracy: 0.8812 - val_loss: 0.2912 - val_accuracy: 0.8756 - lr: 0.0010\n",
      "Epoch 7/50\n",
      "297/297 [==============================] - 4s 13ms/step - loss: 0.2564 - accuracy: 0.8852 - val_loss: 0.2709 - val_accuracy: 0.8694 - lr: 0.0010\n",
      "Epoch 8/50\n",
      "297/297 [==============================] - 4s 14ms/step - loss: 0.2493 - accuracy: 0.8932 - val_loss: 0.2881 - val_accuracy: 0.8728 - lr: 0.0010\n"
     ]
    }
   ],
   "source": [
    "history = gender_model.fit(X_train, y_train, \n",
    "                           epochs=n_epochs,\n",
    "                           batch_size=batch_size,\n",
    "                           callbacks=callbacks,\n",
    "                           validation_data=(X_test, y_test))"
   ]
  },
  {
   "cell_type": "code",
   "execution_count": 46,
   "id": "74e9be1f",
   "metadata": {},
   "outputs": [],
   "source": [
    "gender_model.save('../data/data3/gender_model3_17_11_2021.h5')"
   ]
  },
  {
   "cell_type": "code",
   "execution_count": null,
   "id": "78141f1f",
   "metadata": {},
   "outputs": [],
   "source": [
    "valid_score = gender_model.evaluate(X_test, y_test, verbose=1)\n",
    "print('Accuracy for test set: {0}'.format(valid_score[1]))"
   ]
  }
 ],
 "metadata": {
  "kernelspec": {
   "display_name": "Python 3 (ipykernel)",
   "language": "python",
   "name": "python3"
  },
  "language_info": {
   "codemirror_mode": {
    "name": "ipython",
    "version": 3
   },
   "file_extension": ".py",
   "mimetype": "text/x-python",
   "name": "python",
   "nbconvert_exporter": "python",
   "pygments_lexer": "ipython3",
   "version": "3.7.11"
  }
 },
 "nbformat": 4,
 "nbformat_minor": 5
}
