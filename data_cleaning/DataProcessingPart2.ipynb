{
 "cells": [
  {
   "cell_type": "code",
   "execution_count": 29,
   "metadata": {},
   "outputs": [],
   "source": [
    "import numpy as np\n",
    "import pandas as pd\n",
    "from PIL import Image\n",
    "import matplotlib.pyplot as plt\n",
    "from os import listdir\n",
    "import os"
   ]
  },
  {
   "cell_type": "code",
   "execution_count": 30,
   "metadata": {},
   "outputs": [],
   "source": [
    "df = pd.read_csv(\"data/data1/total_data_paths.csv\", index_col='index')"
   ]
  },
  {
   "cell_type": "code",
   "execution_count": 31,
   "metadata": {},
   "outputs": [
    {
     "data": {
      "text/html": [
       "<div>\n",
       "<style scoped>\n",
       "    .dataframe tbody tr th:only-of-type {\n",
       "        vertical-align: middle;\n",
       "    }\n",
       "\n",
       "    .dataframe tbody tr th {\n",
       "        vertical-align: top;\n",
       "    }\n",
       "\n",
       "    .dataframe thead th {\n",
       "        text-align: right;\n",
       "    }\n",
       "</style>\n",
       "<table border=\"1\" class=\"dataframe\">\n",
       "  <thead>\n",
       "    <tr style=\"text-align: right;\">\n",
       "      <th></th>\n",
       "      <th>user_id</th>\n",
       "      <th>original_image</th>\n",
       "      <th>face_id</th>\n",
       "      <th>age</th>\n",
       "      <th>gender</th>\n",
       "      <th>paths</th>\n",
       "      <th>image_array</th>\n",
       "    </tr>\n",
       "    <tr>\n",
       "      <th>index</th>\n",
       "      <th></th>\n",
       "      <th></th>\n",
       "      <th></th>\n",
       "      <th></th>\n",
       "      <th></th>\n",
       "      <th></th>\n",
       "      <th></th>\n",
       "    </tr>\n",
       "  </thead>\n",
       "  <tbody>\n",
       "    <tr>\n",
       "      <th>0</th>\n",
       "      <td>30601258@N03</td>\n",
       "      <td>10399646885_67c7d20df9_o.jpg</td>\n",
       "      <td>1</td>\n",
       "      <td>(25, 32)</td>\n",
       "      <td>f</td>\n",
       "      <td>data/data1/faces/30601258@N03/coarse_tilt_alig...</td>\n",
       "      <td>[[[0. 0. 0.]\\n  [0. 0. 0.]\\n  [0. 0. 0.]\\n  .....</td>\n",
       "    </tr>\n",
       "    <tr>\n",
       "      <th>1</th>\n",
       "      <td>30601258@N03</td>\n",
       "      <td>10424815813_e94629b1ec_o.jpg</td>\n",
       "      <td>2</td>\n",
       "      <td>(25, 32)</td>\n",
       "      <td>m</td>\n",
       "      <td>data/data1/faces/30601258@N03/coarse_tilt_alig...</td>\n",
       "      <td>[[[0.94117647 0.83137255 0.77647059]\\n  [0.945...</td>\n",
       "    </tr>\n",
       "    <tr>\n",
       "      <th>2</th>\n",
       "      <td>30601258@N03</td>\n",
       "      <td>10437979845_5985be4b26_o.jpg</td>\n",
       "      <td>1</td>\n",
       "      <td>(25, 32)</td>\n",
       "      <td>f</td>\n",
       "      <td>data/data1/faces/30601258@N03/coarse_tilt_alig...</td>\n",
       "      <td>[[[0. 0. 0.]\\n  [0. 0. 0.]\\n  [0. 0. 0.]\\n  .....</td>\n",
       "    </tr>\n",
       "    <tr>\n",
       "      <th>3</th>\n",
       "      <td>30601258@N03</td>\n",
       "      <td>10437979845_5985be4b26_o.jpg</td>\n",
       "      <td>3</td>\n",
       "      <td>(25, 32)</td>\n",
       "      <td>m</td>\n",
       "      <td>data/data1/faces/30601258@N03/coarse_tilt_alig...</td>\n",
       "      <td>[[[0.70588235 0.61960784 0.45882353]\\n  [0.694...</td>\n",
       "    </tr>\n",
       "    <tr>\n",
       "      <th>4</th>\n",
       "      <td>30601258@N03</td>\n",
       "      <td>11816644924_075c3d8d59_o.jpg</td>\n",
       "      <td>2</td>\n",
       "      <td>(25, 32)</td>\n",
       "      <td>m</td>\n",
       "      <td>data/data1/faces/30601258@N03/coarse_tilt_alig...</td>\n",
       "      <td>[[[0. 0. 0.]\\n  [0. 0. 0.]\\n  [0. 0. 0.]\\n  .....</td>\n",
       "    </tr>\n",
       "    <tr>\n",
       "      <th>...</th>\n",
       "      <td>...</td>\n",
       "      <td>...</td>\n",
       "      <td>...</td>\n",
       "      <td>...</td>\n",
       "      <td>...</td>\n",
       "      <td>...</td>\n",
       "      <td>...</td>\n",
       "    </tr>\n",
       "    <tr>\n",
       "      <th>19341</th>\n",
       "      <td>101515718@N03</td>\n",
       "      <td>10587826073_6663f5b654_o.jpg</td>\n",
       "      <td>2280</td>\n",
       "      <td>(25, 32)</td>\n",
       "      <td>f</td>\n",
       "      <td>data/data1/faces/101515718@N03/coarse_tilt_ali...</td>\n",
       "      <td>[[[0.69411765 0.52156863 0.36862745]\\n  [0.729...</td>\n",
       "    </tr>\n",
       "    <tr>\n",
       "      <th>19342</th>\n",
       "      <td>101515718@N03</td>\n",
       "      <td>10587571495_a61785cd06_o.jpg</td>\n",
       "      <td>2278</td>\n",
       "      <td>(25, 32)</td>\n",
       "      <td>m</td>\n",
       "      <td>data/data1/faces/101515718@N03/coarse_tilt_ali...</td>\n",
       "      <td>[[[0. 0. 0.]\\n  [0. 0. 0.]\\n  [0. 0. 0.]\\n  .....</td>\n",
       "    </tr>\n",
       "    <tr>\n",
       "      <th>19343</th>\n",
       "      <td>101515718@N03</td>\n",
       "      <td>10587571495_a61785cd06_o.jpg</td>\n",
       "      <td>2279</td>\n",
       "      <td>(25, 32)</td>\n",
       "      <td>f</td>\n",
       "      <td>data/data1/faces/101515718@N03/coarse_tilt_ali...</td>\n",
       "      <td>[[[0. 0. 0.]\\n  [0. 0. 0.]\\n  [0. 0. 0.]\\n  .....</td>\n",
       "    </tr>\n",
       "    <tr>\n",
       "      <th>19344</th>\n",
       "      <td>50458575@N08</td>\n",
       "      <td>9426695459_9e8b347604_o.jpg</td>\n",
       "      <td>2281</td>\n",
       "      <td>(25, 32)</td>\n",
       "      <td>f</td>\n",
       "      <td>data/data1/faces/50458575@N08/coarse_tilt_alig...</td>\n",
       "      <td>[[[0.24705882 0.30196078 0.09411765]\\n  [0.156...</td>\n",
       "    </tr>\n",
       "    <tr>\n",
       "      <th>19345</th>\n",
       "      <td>50458575@N08</td>\n",
       "      <td>9429464468_1bfc39ecfb_o.jpg</td>\n",
       "      <td>2281</td>\n",
       "      <td>(25, 32)</td>\n",
       "      <td>f</td>\n",
       "      <td>data/data1/faces/50458575@N08/coarse_tilt_alig...</td>\n",
       "      <td>[[[0. 0. 0.]\\n  [0. 0. 0.]\\n  [0. 0. 0.]\\n  .....</td>\n",
       "    </tr>\n",
       "  </tbody>\n",
       "</table>\n",
       "<p>18551 rows × 7 columns</p>\n",
       "</div>"
      ],
      "text/plain": [
       "             user_id                original_image  face_id       age gender  \\\n",
       "index                                                                          \n",
       "0       30601258@N03  10399646885_67c7d20df9_o.jpg        1  (25, 32)      f   \n",
       "1       30601258@N03  10424815813_e94629b1ec_o.jpg        2  (25, 32)      m   \n",
       "2       30601258@N03  10437979845_5985be4b26_o.jpg        1  (25, 32)      f   \n",
       "3       30601258@N03  10437979845_5985be4b26_o.jpg        3  (25, 32)      m   \n",
       "4       30601258@N03  11816644924_075c3d8d59_o.jpg        2  (25, 32)      m   \n",
       "...              ...                           ...      ...       ...    ...   \n",
       "19341  101515718@N03  10587826073_6663f5b654_o.jpg     2280  (25, 32)      f   \n",
       "19342  101515718@N03  10587571495_a61785cd06_o.jpg     2278  (25, 32)      m   \n",
       "19343  101515718@N03  10587571495_a61785cd06_o.jpg     2279  (25, 32)      f   \n",
       "19344   50458575@N08   9426695459_9e8b347604_o.jpg     2281  (25, 32)      f   \n",
       "19345   50458575@N08   9429464468_1bfc39ecfb_o.jpg     2281  (25, 32)      f   \n",
       "\n",
       "                                                   paths  \\\n",
       "index                                                      \n",
       "0      data/data1/faces/30601258@N03/coarse_tilt_alig...   \n",
       "1      data/data1/faces/30601258@N03/coarse_tilt_alig...   \n",
       "2      data/data1/faces/30601258@N03/coarse_tilt_alig...   \n",
       "3      data/data1/faces/30601258@N03/coarse_tilt_alig...   \n",
       "4      data/data1/faces/30601258@N03/coarse_tilt_alig...   \n",
       "...                                                  ...   \n",
       "19341  data/data1/faces/101515718@N03/coarse_tilt_ali...   \n",
       "19342  data/data1/faces/101515718@N03/coarse_tilt_ali...   \n",
       "19343  data/data1/faces/101515718@N03/coarse_tilt_ali...   \n",
       "19344  data/data1/faces/50458575@N08/coarse_tilt_alig...   \n",
       "19345  data/data1/faces/50458575@N08/coarse_tilt_alig...   \n",
       "\n",
       "                                             image_array  \n",
       "index                                                     \n",
       "0      [[[0. 0. 0.]\\n  [0. 0. 0.]\\n  [0. 0. 0.]\\n  .....  \n",
       "1      [[[0.94117647 0.83137255 0.77647059]\\n  [0.945...  \n",
       "2      [[[0. 0. 0.]\\n  [0. 0. 0.]\\n  [0. 0. 0.]\\n  .....  \n",
       "3      [[[0.70588235 0.61960784 0.45882353]\\n  [0.694...  \n",
       "4      [[[0. 0. 0.]\\n  [0. 0. 0.]\\n  [0. 0. 0.]\\n  .....  \n",
       "...                                                  ...  \n",
       "19341  [[[0.69411765 0.52156863 0.36862745]\\n  [0.729...  \n",
       "19342  [[[0. 0. 0.]\\n  [0. 0. 0.]\\n  [0. 0. 0.]\\n  .....  \n",
       "19343  [[[0. 0. 0.]\\n  [0. 0. 0.]\\n  [0. 0. 0.]\\n  .....  \n",
       "19344  [[[0.24705882 0.30196078 0.09411765]\\n  [0.156...  \n",
       "19345  [[[0. 0. 0.]\\n  [0. 0. 0.]\\n  [0. 0. 0.]\\n  .....  \n",
       "\n",
       "[18551 rows x 7 columns]"
      ]
     },
     "execution_count": 31,
     "metadata": {},
     "output_type": "execute_result"
    }
   ],
   "source": [
    "df"
   ]
  },
  {
   "cell_type": "code",
   "execution_count": 32,
   "metadata": {},
   "outputs": [],
   "source": [
    "df = df.drop(columns = ['user_id', 'original_image', 'face_id', 'image_array'])"
   ]
  },
  {
   "cell_type": "code",
   "execution_count": 33,
   "metadata": {},
   "outputs": [
    {
     "data": {
      "text/html": [
       "<div>\n",
       "<style scoped>\n",
       "    .dataframe tbody tr th:only-of-type {\n",
       "        vertical-align: middle;\n",
       "    }\n",
       "\n",
       "    .dataframe tbody tr th {\n",
       "        vertical-align: top;\n",
       "    }\n",
       "\n",
       "    .dataframe thead th {\n",
       "        text-align: right;\n",
       "    }\n",
       "</style>\n",
       "<table border=\"1\" class=\"dataframe\">\n",
       "  <thead>\n",
       "    <tr style=\"text-align: right;\">\n",
       "      <th></th>\n",
       "      <th>age</th>\n",
       "      <th>gender</th>\n",
       "      <th>paths</th>\n",
       "    </tr>\n",
       "    <tr>\n",
       "      <th>index</th>\n",
       "      <th></th>\n",
       "      <th></th>\n",
       "      <th></th>\n",
       "    </tr>\n",
       "  </thead>\n",
       "  <tbody>\n",
       "    <tr>\n",
       "      <th>0</th>\n",
       "      <td>(25, 32)</td>\n",
       "      <td>f</td>\n",
       "      <td>data/data1/faces/30601258@N03/coarse_tilt_alig...</td>\n",
       "    </tr>\n",
       "    <tr>\n",
       "      <th>1</th>\n",
       "      <td>(25, 32)</td>\n",
       "      <td>m</td>\n",
       "      <td>data/data1/faces/30601258@N03/coarse_tilt_alig...</td>\n",
       "    </tr>\n",
       "    <tr>\n",
       "      <th>2</th>\n",
       "      <td>(25, 32)</td>\n",
       "      <td>f</td>\n",
       "      <td>data/data1/faces/30601258@N03/coarse_tilt_alig...</td>\n",
       "    </tr>\n",
       "    <tr>\n",
       "      <th>3</th>\n",
       "      <td>(25, 32)</td>\n",
       "      <td>m</td>\n",
       "      <td>data/data1/faces/30601258@N03/coarse_tilt_alig...</td>\n",
       "    </tr>\n",
       "    <tr>\n",
       "      <th>4</th>\n",
       "      <td>(25, 32)</td>\n",
       "      <td>m</td>\n",
       "      <td>data/data1/faces/30601258@N03/coarse_tilt_alig...</td>\n",
       "    </tr>\n",
       "    <tr>\n",
       "      <th>...</th>\n",
       "      <td>...</td>\n",
       "      <td>...</td>\n",
       "      <td>...</td>\n",
       "    </tr>\n",
       "    <tr>\n",
       "      <th>19341</th>\n",
       "      <td>(25, 32)</td>\n",
       "      <td>f</td>\n",
       "      <td>data/data1/faces/101515718@N03/coarse_tilt_ali...</td>\n",
       "    </tr>\n",
       "    <tr>\n",
       "      <th>19342</th>\n",
       "      <td>(25, 32)</td>\n",
       "      <td>m</td>\n",
       "      <td>data/data1/faces/101515718@N03/coarse_tilt_ali...</td>\n",
       "    </tr>\n",
       "    <tr>\n",
       "      <th>19343</th>\n",
       "      <td>(25, 32)</td>\n",
       "      <td>f</td>\n",
       "      <td>data/data1/faces/101515718@N03/coarse_tilt_ali...</td>\n",
       "    </tr>\n",
       "    <tr>\n",
       "      <th>19344</th>\n",
       "      <td>(25, 32)</td>\n",
       "      <td>f</td>\n",
       "      <td>data/data1/faces/50458575@N08/coarse_tilt_alig...</td>\n",
       "    </tr>\n",
       "    <tr>\n",
       "      <th>19345</th>\n",
       "      <td>(25, 32)</td>\n",
       "      <td>f</td>\n",
       "      <td>data/data1/faces/50458575@N08/coarse_tilt_alig...</td>\n",
       "    </tr>\n",
       "  </tbody>\n",
       "</table>\n",
       "<p>18551 rows × 3 columns</p>\n",
       "</div>"
      ],
      "text/plain": [
       "            age gender                                              paths\n",
       "index                                                                    \n",
       "0      (25, 32)      f  data/data1/faces/30601258@N03/coarse_tilt_alig...\n",
       "1      (25, 32)      m  data/data1/faces/30601258@N03/coarse_tilt_alig...\n",
       "2      (25, 32)      f  data/data1/faces/30601258@N03/coarse_tilt_alig...\n",
       "3      (25, 32)      m  data/data1/faces/30601258@N03/coarse_tilt_alig...\n",
       "4      (25, 32)      m  data/data1/faces/30601258@N03/coarse_tilt_alig...\n",
       "...         ...    ...                                                ...\n",
       "19341  (25, 32)      f  data/data1/faces/101515718@N03/coarse_tilt_ali...\n",
       "19342  (25, 32)      m  data/data1/faces/101515718@N03/coarse_tilt_ali...\n",
       "19343  (25, 32)      f  data/data1/faces/101515718@N03/coarse_tilt_ali...\n",
       "19344  (25, 32)      f  data/data1/faces/50458575@N08/coarse_tilt_alig...\n",
       "19345  (25, 32)      f  data/data1/faces/50458575@N08/coarse_tilt_alig...\n",
       "\n",
       "[18551 rows x 3 columns]"
      ]
     },
     "execution_count": 33,
     "metadata": {},
     "output_type": "execute_result"
    }
   ],
   "source": [
    "df"
   ]
  },
  {
   "cell_type": "code",
   "execution_count": 34,
   "metadata": {},
   "outputs": [
    {
     "data": {
      "text/plain": [
       "array(['(25, 32)', '(38, 43)', '(4, 6)', '(60, 100)', '(15, 20)',\n",
       "       '(48, 53)', '(8, 12)', '(0, 2)', '(38, 48)', '35', '3', '55', '58',\n",
       "       '22', '13', '45', '36', '23', '(38, 42)', '(8, 23)', '(27, 32)',\n",
       "       '57', '2', '29', '34', '42', '46'], dtype=object)"
      ]
     },
     "execution_count": 34,
     "metadata": {},
     "output_type": "execute_result"
    }
   ],
   "source": [
    "df.age.unique()"
   ]
  },
  {
   "cell_type": "code",
   "execution_count": 35,
   "metadata": {},
   "outputs": [],
   "source": [
    "labels_age = [('(0, 2)', '0-2'), ('2', '0-2'), ('3', '0-2'), ('(4, 6)', '4-6'), ('(8, 12)', '8-13'), ('13', '8-13'), ('22', '20-25'), ('(8, 23)','15-20'), ('23', '20-25'), ('(15, 20)', '15-20'), ('(25, 32)', '25-32'), ('(27, 32)', '25-32'), ('32', '25-32'), ('34', '25-32'), ('29', '25-32'), ('(38, 42)', '38-43'), ('35', '38-43'), ('36', '38-43'), ('42', '48-53'), ('45', '38-43'), ('(38, 43)', '38-43'), ('(38, 42)', '38-43'), ('(38, 48)', '48-53'), ('46', '48-53'), ('(48, 53)', '48-53'), ('55', '48-53'), ('56', '48-53'), ('(60, 100)', '60+'), ('57', '60+'), ('58', '60+')]\n",
    "labels_age = {each[0]: each[1] for each in labels_age}"
   ]
  },
  {
   "cell_type": "code",
   "execution_count": 36,
   "metadata": {},
   "outputs": [
    {
     "data": {
      "text/plain": [
       "{'(0, 2)': '0-2',\n",
       " '2': '0-2',\n",
       " '3': '0-2',\n",
       " '(4, 6)': '4-6',\n",
       " '(8, 12)': '8-13',\n",
       " '13': '8-13',\n",
       " '22': '20-25',\n",
       " '(8, 23)': '15-20',\n",
       " '23': '20-25',\n",
       " '(15, 20)': '15-20',\n",
       " '(25, 32)': '25-32',\n",
       " '(27, 32)': '25-32',\n",
       " '32': '25-32',\n",
       " '34': '25-32',\n",
       " '29': '25-32',\n",
       " '(38, 42)': '38-43',\n",
       " '35': '38-43',\n",
       " '36': '38-43',\n",
       " '42': '48-53',\n",
       " '45': '38-43',\n",
       " '(38, 43)': '38-43',\n",
       " '(38, 48)': '48-53',\n",
       " '46': '48-53',\n",
       " '(48, 53)': '48-53',\n",
       " '55': '48-53',\n",
       " '56': '48-53',\n",
       " '(60, 100)': '60+',\n",
       " '57': '60+',\n",
       " '58': '60+'}"
      ]
     },
     "execution_count": 36,
     "metadata": {},
     "output_type": "execute_result"
    }
   ],
   "source": [
    "labels_age"
   ]
  },
  {
   "cell_type": "code",
   "execution_count": 37,
   "metadata": {},
   "outputs": [
    {
     "data": {
      "text/plain": [
       "dict_keys(['(0, 2)', '2', '3', '(4, 6)', '(8, 12)', '13', '22', '(8, 23)', '23', '(15, 20)', '(25, 32)', '(27, 32)', '32', '34', '29', '(38, 42)', '35', '36', '42', '45', '(38, 43)', '(38, 48)', '46', '(48, 53)', '55', '56', '(60, 100)', '57', '58'])"
      ]
     },
     "execution_count": 37,
     "metadata": {},
     "output_type": "execute_result"
    }
   ],
   "source": [
    "labels_age.keys()"
   ]
  },
  {
   "cell_type": "code",
   "execution_count": 38,
   "metadata": {},
   "outputs": [
    {
     "data": {
      "text/plain": [
       "index\n",
       "0    (25, 32)\n",
       "1    (25, 32)\n",
       "2    (25, 32)\n",
       "3    (25, 32)\n",
       "4    (25, 32)\n",
       "Name: age, dtype: object"
      ]
     },
     "execution_count": 38,
     "metadata": {},
     "output_type": "execute_result"
    }
   ],
   "source": [
    "df.age.head()"
   ]
  },
  {
   "cell_type": "code",
   "execution_count": 39,
   "metadata": {},
   "outputs": [],
   "source": [
    "#df.iloc[0].age = 32"
   ]
  },
  {
   "cell_type": "code",
   "execution_count": 40,
   "metadata": {},
   "outputs": [
    {
     "data": {
      "text/plain": [
       "index\n",
       "0    (25, 32)\n",
       "1    (25, 32)\n",
       "2    (25, 32)\n",
       "3    (25, 32)\n",
       "4    (25, 32)\n",
       "Name: age, dtype: object"
      ]
     },
     "execution_count": 40,
     "metadata": {},
     "output_type": "execute_result"
    }
   ],
   "source": [
    "df.age.head()"
   ]
  },
  {
   "cell_type": "code",
   "execution_count": 41,
   "metadata": {},
   "outputs": [],
   "source": [
    "for row, age in enumerate(df.age):\n",
    "    #print(labels_age[age])\n",
    "    df.iloc[row].age = labels_age[age]\n",
    "    "
   ]
  },
  {
   "cell_type": "code",
   "execution_count": 42,
   "metadata": {},
   "outputs": [
    {
     "data": {
      "text/plain": [
       "array(['25-32', '38-43', '4-6', '60+', '15-20', '48-53', '8-13', '0-2',\n",
       "       '20-25'], dtype=object)"
      ]
     },
     "execution_count": 42,
     "metadata": {},
     "output_type": "execute_result"
    }
   ],
   "source": [
    "df['age'].unique()"
   ]
  },
  {
   "cell_type": "code",
   "execution_count": 43,
   "metadata": {},
   "outputs": [
    {
     "data": {
      "text/html": [
       "<div>\n",
       "<style scoped>\n",
       "    .dataframe tbody tr th:only-of-type {\n",
       "        vertical-align: middle;\n",
       "    }\n",
       "\n",
       "    .dataframe tbody tr th {\n",
       "        vertical-align: top;\n",
       "    }\n",
       "\n",
       "    .dataframe thead th {\n",
       "        text-align: right;\n",
       "    }\n",
       "</style>\n",
       "<table border=\"1\" class=\"dataframe\">\n",
       "  <thead>\n",
       "    <tr style=\"text-align: right;\">\n",
       "      <th></th>\n",
       "      <th>age</th>\n",
       "      <th>gender</th>\n",
       "      <th>paths</th>\n",
       "    </tr>\n",
       "    <tr>\n",
       "      <th>index</th>\n",
       "      <th></th>\n",
       "      <th></th>\n",
       "      <th></th>\n",
       "    </tr>\n",
       "  </thead>\n",
       "  <tbody>\n",
       "    <tr>\n",
       "      <th>0</th>\n",
       "      <td>25-32</td>\n",
       "      <td>f</td>\n",
       "      <td>data/data1/faces/30601258@N03/coarse_tilt_alig...</td>\n",
       "    </tr>\n",
       "    <tr>\n",
       "      <th>1</th>\n",
       "      <td>25-32</td>\n",
       "      <td>m</td>\n",
       "      <td>data/data1/faces/30601258@N03/coarse_tilt_alig...</td>\n",
       "    </tr>\n",
       "    <tr>\n",
       "      <th>2</th>\n",
       "      <td>25-32</td>\n",
       "      <td>f</td>\n",
       "      <td>data/data1/faces/30601258@N03/coarse_tilt_alig...</td>\n",
       "    </tr>\n",
       "    <tr>\n",
       "      <th>3</th>\n",
       "      <td>25-32</td>\n",
       "      <td>m</td>\n",
       "      <td>data/data1/faces/30601258@N03/coarse_tilt_alig...</td>\n",
       "    </tr>\n",
       "    <tr>\n",
       "      <th>4</th>\n",
       "      <td>25-32</td>\n",
       "      <td>m</td>\n",
       "      <td>data/data1/faces/30601258@N03/coarse_tilt_alig...</td>\n",
       "    </tr>\n",
       "    <tr>\n",
       "      <th>...</th>\n",
       "      <td>...</td>\n",
       "      <td>...</td>\n",
       "      <td>...</td>\n",
       "    </tr>\n",
       "    <tr>\n",
       "      <th>19341</th>\n",
       "      <td>25-32</td>\n",
       "      <td>f</td>\n",
       "      <td>data/data1/faces/101515718@N03/coarse_tilt_ali...</td>\n",
       "    </tr>\n",
       "    <tr>\n",
       "      <th>19342</th>\n",
       "      <td>25-32</td>\n",
       "      <td>m</td>\n",
       "      <td>data/data1/faces/101515718@N03/coarse_tilt_ali...</td>\n",
       "    </tr>\n",
       "    <tr>\n",
       "      <th>19343</th>\n",
       "      <td>25-32</td>\n",
       "      <td>f</td>\n",
       "      <td>data/data1/faces/101515718@N03/coarse_tilt_ali...</td>\n",
       "    </tr>\n",
       "    <tr>\n",
       "      <th>19344</th>\n",
       "      <td>25-32</td>\n",
       "      <td>f</td>\n",
       "      <td>data/data1/faces/50458575@N08/coarse_tilt_alig...</td>\n",
       "    </tr>\n",
       "    <tr>\n",
       "      <th>19345</th>\n",
       "      <td>25-32</td>\n",
       "      <td>f</td>\n",
       "      <td>data/data1/faces/50458575@N08/coarse_tilt_alig...</td>\n",
       "    </tr>\n",
       "  </tbody>\n",
       "</table>\n",
       "<p>18551 rows × 3 columns</p>\n",
       "</div>"
      ],
      "text/plain": [
       "         age gender                                              paths\n",
       "index                                                                 \n",
       "0      25-32      f  data/data1/faces/30601258@N03/coarse_tilt_alig...\n",
       "1      25-32      m  data/data1/faces/30601258@N03/coarse_tilt_alig...\n",
       "2      25-32      f  data/data1/faces/30601258@N03/coarse_tilt_alig...\n",
       "3      25-32      m  data/data1/faces/30601258@N03/coarse_tilt_alig...\n",
       "4      25-32      m  data/data1/faces/30601258@N03/coarse_tilt_alig...\n",
       "...      ...    ...                                                ...\n",
       "19341  25-32      f  data/data1/faces/101515718@N03/coarse_tilt_ali...\n",
       "19342  25-32      m  data/data1/faces/101515718@N03/coarse_tilt_ali...\n",
       "19343  25-32      f  data/data1/faces/101515718@N03/coarse_tilt_ali...\n",
       "19344  25-32      f  data/data1/faces/50458575@N08/coarse_tilt_alig...\n",
       "19345  25-32      f  data/data1/faces/50458575@N08/coarse_tilt_alig...\n",
       "\n",
       "[18551 rows x 3 columns]"
      ]
     },
     "execution_count": 43,
     "metadata": {},
     "output_type": "execute_result"
    }
   ],
   "source": [
    "df"
   ]
  },
  {
   "cell_type": "code",
   "execution_count": 44,
   "metadata": {},
   "outputs": [],
   "source": [
    "df.to_csv('data/data1/final_data.csv')"
   ]
  },
  {
   "cell_type": "code",
   "execution_count": null,
   "metadata": {},
   "outputs": [],
   "source": []
  },
  {
   "cell_type": "code",
   "execution_count": null,
   "metadata": {},
   "outputs": [],
   "source": []
  }
 ],
 "metadata": {
  "kernelspec": {
   "display_name": "Python 3 (ipykernel)",
   "language": "python",
   "name": "python3"
  },
  "language_info": {
   "codemirror_mode": {
    "name": "ipython",
    "version": 3
   },
   "file_extension": ".py",
   "mimetype": "text/x-python",
   "name": "python",
   "nbconvert_exporter": "python",
   "pygments_lexer": "ipython3",
   "version": "3.7.11"
  }
 },
 "nbformat": 4,
 "nbformat_minor": 4
}
